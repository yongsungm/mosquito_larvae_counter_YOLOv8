{
 "cells": [
  {
   "cell_type": "code",
   "execution_count": null,
   "id": "70f731c6-ec8c-4fa0-9da0-e18244ebf717",
   "metadata": {},
   "outputs": [],
   "source": [
    "# !pip install -r requirements.txt"
   ]
  },
  {
   "cell_type": "code",
   "execution_count": 1,
   "id": "09cbafe4-e11d-4e33-ae38-81ac8afb5a53",
   "metadata": {},
   "outputs": [],
   "source": [
    "import csv\n",
    "import cv2\n",
    "import numpy as np\n",
    "import os\n",
    "from shapely.geometry import Polygon\n",
    "from shapely.geometry.point import Point\n",
    "from ultralytics import YOLO\n",
    "from ultralytics.utils.plotting import Annotator, colors"
   ]
  },
  {
   "cell_type": "code",
   "execution_count": 2,
   "id": "7e6bcba4-e061-455d-82ab-40b632727433",
   "metadata": {},
   "outputs": [],
   "source": [
    "model_path = \"model_training/runs/detect/train/weights/best.pt\"\n",
    "model = YOLO(model_path)\n",
    "image_dir = \"input_images/\"\n",
    "output_dir = \"output_images/\"\n",
    "\n",
    "# Create output directory if it doesn't exist\n",
    "os.makedirs(output_dir, exist_ok=True)\n",
    "\n",
    "# Define detection region points\n",
    "inset = 300\n",
    "file0 = os.listdir(image_dir)[0]\n",
    "image_path = os.path.join(image_dir, file0)\n",
    "image0 = cv2.imread(image_path)\n",
    "h, w = image0.shape[:2]\n",
    "region_points = np.array([[inset, inset], [w - inset, inset], [w - inset, h - inset], [inset, h - inset]], np.int32)"
   ]
  },
  {
   "cell_type": "code",
   "execution_count": 3,
   "id": "2e05cd95-5777-4d24-b349-0f72711626c1",
   "metadata": {},
   "outputs": [
    {
     "name": "stdout",
     "output_type": "stream",
     "text": [
      "A6\n",
      "larvae: 4\n",
      "eggs  : 2\n",
      "\n",
      "D8\n",
      "larvae: 0\n",
      "eggs  : 3\n",
      "\n",
      "G7\n",
      "larvae: 0\n",
      "eggs  : 0\n",
      "\n",
      "H2\n",
      "larvae: 2\n",
      "eggs  : 6\n",
      "\n",
      "H12\n",
      "larvae: 1\n",
      "eggs  : 2\n",
      "\n",
      "B1\n",
      "larvae: 2\n",
      "eggs  : 1\n",
      "\n",
      "D4\n",
      "larvae: 2\n",
      "eggs  : 1\n",
      "\n",
      "A2\n",
      "larvae: 2\n",
      "eggs  : 2\n",
      "\n",
      "E2\n",
      "larvae: 3\n",
      "eggs  : 0\n",
      "\n",
      "H3\n",
      "larvae: 2\n",
      "eggs  : 1\n",
      "\n",
      "Object counting completed.\n"
     ]
    }
   ],
   "source": [
    "with open('counts.csv', 'w', newline='') as file:\n",
    "    writer = csv.writer(file)\n",
    "    writer.writerow(['Aliquot', 'Larvae', 'Eggs'])\n",
    "\n",
    "    for filename in os.listdir(image_dir):\n",
    "        if filename.endswith(\".jpg\") or filename.endswith(\".png\"):\n",
    "            image_path = os.path.join(image_dir, filename)\n",
    "            image      = cv2.imread(image_path)\n",
    "    \n",
    "            results = model.track(image, verbose=False)\n",
    "            boxes   = results[0].boxes.xywh.cpu()\n",
    "            clss    = results[0].boxes.cls.cpu().tolist()\n",
    "            names   = results[0].names\n",
    "    \n",
    "            larvae = 0\n",
    "            eggs   = 0  \n",
    "            \n",
    "            annotator = Annotator(image, line_width=2, example=str(names))\n",
    "    \n",
    "            for box, cls in zip(boxes, clss):\n",
    "                x, y, w, h = box\n",
    "                label = str(names[cls])\n",
    "                xyxy = (x - w / 2), (y - h / 2), (x + w / 2), (y + h / 2)\n",
    "    \n",
    "                bbox_color = colors(cls, True)\n",
    "                annotator.box_label(xyxy, label, color=bbox_color)\n",
    "    \n",
    "                if Polygon(region_points).contains(Point((x, y))):\n",
    "                    if cls == 0:\n",
    "                        larvae += 1\n",
    "                    elif cls == 1:\n",
    "                        eggs +=1\n",
    "    \n",
    "            cv2.polylines(image, [region_points], True, (255, 0, 0), 2)\n",
    "\n",
    "            index = filename.find(\".\")\n",
    "            aliquot = filename[:index]\n",
    "            writer.writerow([aliquot, larvae, eggs])\n",
    "            print(f\"{aliquot}\\nlarvae: {larvae}\\neggs  : {eggs}\\n\")\n",
    "                                      \n",
    "            output_path = os.path.join(output_dir, filename)\n",
    "            cv2.imwrite(output_path, image)\n",
    "print(\"Object counting completed.\")\n"
   ]
  },
  {
   "cell_type": "code",
   "execution_count": null,
   "id": "7da418d5-de76-4bdd-bcb6-eb31e3a0acaa",
   "metadata": {},
   "outputs": [],
   "source": []
  }
 ],
 "metadata": {
  "kernelspec": {
   "display_name": "Python 3 (ipykernel)",
   "language": "python",
   "name": "python3"
  },
  "language_info": {
   "codemirror_mode": {
    "name": "ipython",
    "version": 3
   },
   "file_extension": ".py",
   "mimetype": "text/x-python",
   "name": "python",
   "nbconvert_exporter": "python",
   "pygments_lexer": "ipython3",
   "version": "3.11.8"
  },
  "widgets": {
   "application/vnd.jupyter.widget-state+json": {
    "state": {},
    "version_major": 2,
    "version_minor": 0
   }
  }
 },
 "nbformat": 4,
 "nbformat_minor": 5
}
